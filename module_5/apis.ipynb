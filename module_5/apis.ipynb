{
 "cells": [
  {
   "cell_type": "code",
   "execution_count": 137,
   "metadata": {},
   "outputs": [],
   "source": [
    "# An API lets two pieces of software talk to each other.\n",
    "\n",
    "# REST API\n",
    "    #represemtational\n",
    "    #state\n",
    "    #transfer\n",
    "    #apis\n",
    "    \n"
   ]
  },
  {
   "cell_type": "code",
   "execution_count": 138,
   "metadata": {},
   "outputs": [
    {
     "data": {
      "text/plain": [
       "'\\n    Rest api se utiliza para con servicios web\\n    Hay un conjunto de reglas con respecto a la comunicación,\\n    la entrada o solicitud y la salida o respuesta.\\n    Http es el metodo de tranferencia de informacion la cual en caso existoso\\n    regresa en un archivo Json\\n\\n'"
      ]
     },
     "execution_count": 138,
     "metadata": {},
     "output_type": "execute_result"
    }
   ],
   "source": [
    "'''\n",
    "    Rest api se utiliza para con servicios web\n",
    "    Hay un conjunto de reglas con respecto a la comunicación,\n",
    "    la entrada o solicitud y la salida o respuesta.\n",
    "    Http es el metodo de tranferencia de informacion la cual en caso existoso\n",
    "    regresa en un archivo Json\n",
    "\n",
    "'''"
   ]
  },
  {
   "cell_type": "code",
   "execution_count": 139,
   "metadata": {},
   "outputs": [],
   "source": [
    "import requests"
   ]
  },
  {
   "cell_type": "code",
   "execution_count": 140,
   "metadata": {},
   "outputs": [],
   "source": [
    "import os \n",
    "from PIL import Image\n",
    "from IPython.display import IFrame"
   ]
  },
  {
   "cell_type": "code",
   "execution_count": 141,
   "metadata": {},
   "outputs": [],
   "source": [
    "url='https://www.ibm.com/'\n",
    "r=requests.get(url)"
   ]
  },
  {
   "cell_type": "code",
   "execution_count": 142,
   "metadata": {},
   "outputs": [
    {
     "data": {
      "text/plain": [
       "200"
      ]
     },
     "execution_count": 142,
     "metadata": {},
     "output_type": "execute_result"
    }
   ],
   "source": [
    "r.status_code"
   ]
  },
  {
   "cell_type": "code",
   "execution_count": 143,
   "metadata": {},
   "outputs": [
    {
     "name": "stdout",
     "output_type": "stream",
     "text": [
      "{'User-Agent': 'python-requests/2.31.0', 'Accept-Encoding': 'gzip, deflate', 'Accept': '*/*', 'Connection': 'keep-alive', 'Cookie': '_abck=7C92CA32DA77A285F67CBCB64CA770D3~-1~YAAQNvs7F5En4L+IAQAAncY90QrZoqryBroSG/97Q6lC8FBKzBEgfbZ5ZEEOA6TGne2hSsZeXP/ac7TzdA/HYYJ57HLVqPFsEvcgf0EyCvNx7LSkCrvPXAZDKG4GzTalvSos9ASA4J+WViHa4Q8cOnpS/K90F1Lbjo0rgBiqA3i5nrvE7oDbETg+84fPZcfDUe1Iz5DNgWgyCjtLjE7YE8nUpZ9PdpViEDXsh3m9bZ9LKmqmRfNFO2NoAnnboBMSA6EWEuSkyQhB/h/ofuLggOP91Fq3+AXMH4Kc3gyXBqLq/X3DvyI2R1/FtV63hwazU77jYJLivADaeW9/op3TTPSuILCXkVuxWAEsJqlSBAK3T77U4g8=~-1~-1~-1; bm_sz=A70597E9C6EA1D7C42D98F8667D514E6~YAAQNvs7F5In4L+IAQAAncY90RT0NoJFfIhA3o3WdGP7e4mDf4+Ni4Yc6otjr7tMTThQs1SSY6WksOLkN8uooTW48LkiMEFN3i9RFiXjFY5KX63CvS6VqGDsP+mqwWI2LuzGjm1HMQFw36FZvITk52WWiNYoevtHBfhubAGfsMRYRlHSxqTe4k11sFgd6XIfVYg9duQWydBHkJnVqr2v6/hePme8IsTh64XiGFMOlxzHknBPfiqtQ+BATci0lGNr70AUjU8j+SwCWYMqLwc9guqyDlvfGSCbazMOj7ms58c=~4339768~4339779'}\n"
     ]
    }
   ],
   "source": [
    "print(r.request.headers)"
   ]
  },
  {
   "cell_type": "code",
   "execution_count": 144,
   "metadata": {},
   "outputs": [
    {
     "name": "stdout",
     "output_type": "stream",
     "text": [
      "request body: None\n"
     ]
    }
   ],
   "source": [
    "print(\"request body:\", r.request.body)"
   ]
  },
  {
   "cell_type": "code",
   "execution_count": 145,
   "metadata": {},
   "outputs": [
    {
     "name": "stdout",
     "output_type": "stream",
     "text": [
      "{'Accept-Ranges': 'bytes', 'Content-Type': 'text/html', 'ETag': '\"481e6bc1458a9a09f2f1fc8075826ba4:1686772503.463551\"', 'Last-Modified': 'Wed, 14 Jun 2023 19:43:27 GMT', 'Server': 'AkamaiNetStorage', 'Cache-Control': 'max-age=303', 'Expires': 'Mon, 19 Jun 2023 01:26:09 GMT', 'X-Akamai-Transformed': '9 20469 0 pmb=mTOE,2', 'Content-Encoding': 'gzip', 'Date': 'Mon, 19 Jun 2023 01:21:06 GMT', 'Content-Length': '20669', 'Connection': 'keep-alive', 'Vary': 'Accept-Encoding', 'x-content-type-options': 'nosniff', 'X-XSS-Protection': '1; mode=block', 'Content-Security-Policy': 'upgrade-insecure-requests', 'Strict-Transport-Security': 'max-age=31536000'}\n"
     ]
    }
   ],
   "source": [
    "header=r.headers\n",
    "print(r.headers)"
   ]
  },
  {
   "cell_type": "code",
   "execution_count": 146,
   "metadata": {},
   "outputs": [
    {
     "data": {
      "text/plain": [
       "'Mon, 19 Jun 2023 01:21:06 GMT'"
      ]
     },
     "execution_count": 146,
     "metadata": {},
     "output_type": "execute_result"
    }
   ],
   "source": [
    "header['date']"
   ]
  },
  {
   "cell_type": "code",
   "execution_count": 147,
   "metadata": {},
   "outputs": [
    {
     "data": {
      "text/plain": [
       "'ISO-8859-1'"
      ]
     },
     "execution_count": 147,
     "metadata": {},
     "output_type": "execute_result"
    }
   ],
   "source": [
    " r.encoding"
   ]
  },
  {
   "cell_type": "code",
   "execution_count": 148,
   "metadata": {},
   "outputs": [
    {
     "data": {
      "text/plain": [
       "'<!DOCTYPE html><html lang=\"en-US\"><head><meta name=\"viewport\" content=\"width=device-width\"/><meta ch'"
      ]
     },
     "execution_count": 148,
     "metadata": {},
     "output_type": "execute_result"
    }
   ],
   "source": [
    "#As the Content-Type is text/html we can use the attribute text to display the HTML in the body. \n",
    "# We can review the first 100 characters:\n",
    "r.text[0:100]\n"
   ]
  },
  {
   "cell_type": "code",
   "execution_count": 149,
   "metadata": {},
   "outputs": [],
   "source": [
    "# You can load other types of data for non-text requests, like images. Consider the URL of the following image:\n",
    "\n",
    "# Use single quotation marks for defining string\n",
    "url='https://cf-courses-data.s3.us.cloud-object-storage.appdomain.cloud/IBMDeveloperSkillsNetwork-PY0101EN-SkillsNetwork/IDSNlogo.png'"
   ]
  },
  {
   "cell_type": "code",
   "execution_count": 150,
   "metadata": {},
   "outputs": [],
   "source": [
    "r=requests.get(url)"
   ]
  },
  {
   "cell_type": "code",
   "execution_count": 151,
   "metadata": {},
   "outputs": [
    {
     "name": "stdout",
     "output_type": "stream",
     "text": [
      "{'Date': 'Mon, 19 Jun 2023 01:21:07 GMT', 'X-Clv-Request-Id': '5e585a29-7d55-4803-bdf2-af9d5c668965', 'Server': 'Cleversafe', 'X-Clv-S3-Version': '2.5', 'Accept-Ranges': 'bytes', 'x-amz-request-id': '5e585a29-7d55-4803-bdf2-af9d5c668965', 'ETag': '\"8bb44578fff8fdcc3d2972be9ece0164\"', 'Content-Type': 'image/png', 'Last-Modified': 'Wed, 16 Nov 2022 03:32:41 GMT', 'Content-Length': '78776'}\n"
     ]
    }
   ],
   "source": [
    "# respuesta del header\n",
    "print(r.headers)"
   ]
  },
  {
   "cell_type": "code",
   "execution_count": 152,
   "metadata": {},
   "outputs": [
    {
     "data": {
      "text/plain": [
       "'image/png'"
      ]
     },
     "execution_count": 152,
     "metadata": {},
     "output_type": "execute_result"
    }
   ],
   "source": [
    "r.headers['Content-Type']"
   ]
  },
  {
   "cell_type": "code",
   "execution_count": 153,
   "metadata": {},
   "outputs": [
    {
     "data": {
      "text/plain": [
       "'/workspaces/Data-Analytics-Course-IBM/module_5/image.png'"
      ]
     },
     "execution_count": 153,
     "metadata": {},
     "output_type": "execute_result"
    }
   ],
   "source": [
    "path=os.path.join(os.getcwd(),'image.png')\n",
    "path"
   ]
  }
 ],
 "metadata": {
  "kernelspec": {
   "display_name": "Python 3",
   "language": "python",
   "name": "python3"
  },
  "language_info": {
   "codemirror_mode": {
    "name": "ipython",
    "version": 3
   },
   "file_extension": ".py",
   "mimetype": "text/x-python",
   "name": "python",
   "nbconvert_exporter": "python",
   "pygments_lexer": "ipython3",
   "version": "3.10.8"
  },
  "orig_nbformat": 4
 },
 "nbformat": 4,
 "nbformat_minor": 2
}
