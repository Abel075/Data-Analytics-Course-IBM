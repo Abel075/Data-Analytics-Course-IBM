{
 "cells": [
  {
   "cell_type": "code",
   "execution_count": 1,
   "metadata": {},
   "outputs": [
    {
     "ename": "NameError",
     "evalue": "name 'filename' is not defined",
     "output_type": "error",
     "traceback": [
      "\u001b[0;31m---------------------------------------------------------------------------\u001b[0m",
      "\u001b[0;31mNameError\u001b[0m                                 Traceback (most recent call last)",
      "Cell \u001b[0;32mIn[1], line 2\u001b[0m\n\u001b[1;32m      1\u001b[0m \u001b[39m# open function\u001b[39;00m\n\u001b[0;32m----> 2\u001b[0m file \u001b[39m=\u001b[39m \u001b[39mopen\u001b[39m(filename, mode) \n\u001b[1;32m      5\u001b[0m \u001b[39m#filename: The name or the path of the file you want to open. It can be a relative or absolute file path.\u001b[39;00m\n\u001b[1;32m      7\u001b[0m \u001b[39m\"\"\" mode: The mode in which you want to open the file. It can be one of the following:\u001b[39;00m\n\u001b[1;32m      8\u001b[0m \n\u001b[1;32m      9\u001b[0m \u001b[39m'r': Read mode (default). Opens the file for reading.\u001b[39;00m\n\u001b[0;32m   (...)\u001b[0m\n\u001b[1;32m     14\u001b[0m \u001b[39m't': Text mode (default). Opens the file in text mode.\u001b[39;00m\n\u001b[1;32m     15\u001b[0m \u001b[39m'+': Update mode. Opens the file for both reading and writing. \"\"\"\u001b[39;00m\n",
      "\u001b[0;31mNameError\u001b[0m: name 'filename' is not defined"
     ]
    }
   ],
   "source": [
    "# open function\n",
    "file = open(filename, mode) \n",
    "\n",
    "\n",
    "#filename: The name or the path of the file you want to open. It can be a relative or absolute file path.\n",
    "\n",
    "\"\"\" mode: The mode in which you want to open the file. It can be one of the following:\n",
    "\n",
    "'r': Read mode (default). Opens the file for reading.\n",
    "'w': Write mode. Opens the file for writing. If the file already exists, it will be truncated. If it doesn't exist, a new file will be created.\n",
    "'a': Append mode. Opens the file for writing. The data will be appended to the end of the file if it already exists, or a new file will be created.\n",
    "'x': Exclusive creation mode. Opens the file for writing. If the file already exists, a FileExistsError will be raised.\n",
    "'b': Binary mode. Opens the file in binary mode.\n",
    "'t': Text mode (default). Opens the file in text mode.\n",
    "'+': Update mode. Opens the file for both reading and writing. \"\"\""
   ]
  },
  {
   "cell_type": "code",
   "execution_count": null,
   "metadata": {},
   "outputs": [],
   "source": [
    "# close() method to free up system resources.\n",
    "\n",
    "file = open(\"example.txt\", \"r\")\n",
    "content = file.read()\n",
    "print(content)\n",
    "file.close()\n"
   ]
  },
  {
   "cell_type": "code",
   "execution_count": null,
   "metadata": {},
   "outputs": [],
   "source": [
    "#Using a 'with' statement to open the file is better practice because it automatically\n",
    "\n",
    "with open(\"example.txt\", \"r\") as file:\n",
    "    content = file.read()\n",
    "    print(content)\n"
   ]
  }
 ],
 "metadata": {
  "kernelspec": {
   "display_name": "Python 3",
   "language": "python",
   "name": "python3"
  },
  "language_info": {
   "codemirror_mode": {
    "name": "ipython",
    "version": 3
   },
   "file_extension": ".py",
   "mimetype": "text/x-python",
   "name": "python",
   "nbconvert_exporter": "python",
   "pygments_lexer": "ipython3",
   "version": "3.10.8"
  },
  "orig_nbformat": 4
 },
 "nbformat": 4,
 "nbformat_minor": 2
}
