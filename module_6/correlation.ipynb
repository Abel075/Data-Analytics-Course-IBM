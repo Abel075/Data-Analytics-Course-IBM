{
 "cells": [
  {
   "cell_type": "code",
   "execution_count": null,
   "metadata": {},
   "outputs": [],
   "source": [
    "'''\n",
    "La correlación es una medida estadística que cuantifica la relación o la asociación\n",
    "entre dos variables. Se utiliza para determinar si existe una relación entre las variables\n",
    "y para describir la fuerza y la dirección de esa relación.\n",
    "\n",
    "\n",
    "'''"
   ]
  },
  {
   "cell_type": "code",
   "execution_count": null,
   "metadata": {},
   "outputs": [],
   "source": [
    "# Correlation between two features (engine-size and price)\n",
    "\n",
    "#sns.regplot(x='engine-size', y='price', data=df)\n",
    "#plt.ylim(0,)\n",
    "\n",
    "# Negative linear relationship\n",
    "    #relation between two features\n",
    "    \n",
    "#sns.regplot(x= 'highway-mpg', y='prices', data=df)\n",
    "#plt.ylim(0,)\n",
    "\n",
    "\n",
    "# Week correlation between two features\n",
    "# sns.regplot(x='peak-rpm', y='prices', data=df)\n",
    "#pltylim(0,)"
   ]
  }
 ],
 "metadata": {
  "language_info": {
   "name": "python"
  },
  "orig_nbformat": 4
 },
 "nbformat": 4,
 "nbformat_minor": 2
}
