{
 "cells": [
  {
   "cell_type": "code",
   "execution_count": null,
   "metadata": {},
   "outputs": [],
   "source": [
    "''' \n",
    "Is the process of caonverting or mapping data from the initial 'raw\n",
    "form into another format, in order to prepare the data for further analysis.\n",
    "\n",
    "\n",
    "'''"
   ]
  },
  {
   "cell_type": "code",
   "execution_count": null,
   "metadata": {},
   "outputs": [],
   "source": [
    "# 1 Identify and handle missing values\n",
    "# 2 Data Formatting\n",
    "# 3 Data Normalization (centering /scaling)\n",
    "# 4 Data Binning\n",
    "# 5 Turning Categorical values to numeric variables"
   ]
  }
 ],
 "metadata": {
  "language_info": {
   "name": "python"
  },
  "orig_nbformat": 4
 },
 "nbformat": 4,
 "nbformat_minor": 2
}
