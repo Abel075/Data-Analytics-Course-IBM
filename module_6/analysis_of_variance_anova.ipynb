{
 "cells": [
  {
   "cell_type": "code",
   "execution_count": 1,
   "metadata": {},
   "outputs": [
    {
     "data": {
      "text/plain": [
       "'\\nANOVA (Análisis de Varianza)\\nEs una técnica estadística utilizada para comparar las medias\\nde tres o más grupos. Proporciona una forma de determinar si hay\\ndiferencias significativas entre los grupos en términos de una variable continua.\\n\\n\\nEl ANOVA clasifica la variación total en tres componentes:\\n\\nSuma de cuadrados entre grupos (SSG): Mide la variación entre los grupos y refleja las diferencias entre las medias de los grupos.\\n\\nSuma de cuadrados dentro de los grupos (SSE): Mide la variación dentro de los grupos y refleja la variabilidad aleatoria dentro de cada grupo.\\n\\nSuma de cuadrados total (SST): Es la suma de los cuadrados entre grupos y los cuadrados dentro de los grupos y representa la variación total de los datos.\\n\\n\\nEl resultado del ANOVA se expresa en forma de valor p, que indica la\\nprobabilidad de obtener una diferencia entre los grupos igual o más extrema\\nque la observada si no hay diferencias reales entre los grupos. Si el valo\\nr p es menor que un umbral predefinido (por ejemplo, 0.05), se considera que\\nhay diferencias significativas entre los grupos.\\n'"
      ]
     },
     "execution_count": 1,
     "metadata": {},
     "output_type": "execute_result"
    }
   ],
   "source": [
    "'''\n",
    "ANOVA (Análisis de Varianza)\n",
    "Es una técnica estadística utilizada para comparar las medias\n",
    "de tres o más grupos. Proporciona una forma de determinar si hay\n",
    "diferencias significativas entre los grupos en términos de una variable continua.\n",
    "\n",
    "\n",
    "El ANOVA clasifica la variación total en tres componentes:\n",
    "\n",
    "Suma de cuadrados entre grupos (SSG): Mide la variación entre los grupos y refleja las diferencias entre las medias de los grupos.\n",
    "\n",
    "Suma de cuadrados dentro de los grupos (SSE): Mide la variación dentro de los grupos y refleja la variabilidad aleatoria dentro de cada grupo.\n",
    "\n",
    "Suma de cuadrados total (SST): Es la suma de los cuadrados entre grupos y los cuadrados dentro de los grupos y representa la variación total de los datos.\n",
    "\n",
    "\n",
    "El resultado del ANOVA se expresa en forma de valor p, que indica la\n",
    "probabilidad de obtener una diferencia entre los grupos igual o más extrema\n",
    "que la observada si no hay diferencias reales entre los grupos. Si el valo\n",
    "r p es menor que un umbral predefinido (por ejemplo, 0.05), se considera que\n",
    "hay diferencias significativas entre los grupos.\n",
    "'''"
   ]
  },
  {
   "cell_type": "code",
   "execution_count": 2,
   "metadata": {},
   "outputs": [
    {
     "name": "stdout",
     "output_type": "stream",
     "text": [
      "Estadística de prueba (F): 3.9562043795620423\n",
      "Valor p: 0.04790101139436069\n"
     ]
    }
   ],
   "source": [
    "import scipy.stats as stats\n",
    "\n",
    "# Datos de ejemplo\n",
    "grupo1 = [6, 8, 9, 4, 7]\n",
    "grupo2 = [3, 5, 2, 6, 9]\n",
    "grupo3 = [1, 3, 2, 4, 5]\n",
    "\n",
    "# Realizar ANOVA\n",
    "resultado_anova = stats.f_oneway(grupo1, grupo2, grupo3)\n",
    "\n",
    "# Imprimir resultados\n",
    "print(\"Estadística de prueba (F):\", resultado_anova.statistic)\n",
    "print(\"Valor p:\", resultado_anova.pvalue)\n"
   ]
  }
 ],
 "metadata": {
  "kernelspec": {
   "display_name": "Python 3",
   "language": "python",
   "name": "python3"
  },
  "language_info": {
   "codemirror_mode": {
    "name": "ipython",
    "version": 3
   },
   "file_extension": ".py",
   "mimetype": "text/x-python",
   "name": "python",
   "nbconvert_exporter": "python",
   "pygments_lexer": "ipython3",
   "version": "3.10.8"
  },
  "orig_nbformat": 4
 },
 "nbformat": 4,
 "nbformat_minor": 2
}
