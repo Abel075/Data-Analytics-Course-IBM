{
 "cells": [
  {
   "cell_type": "code",
   "execution_count": null,
   "metadata": {},
   "outputs": [],
   "source": [
    "# Missing values occur when no data value is stored for a variable(feature)\n",
    "# in an observation\n",
    "\n",
    "# Could be represented as '?', 'N/A', 0 or just a blank cell"
   ]
  },
  {
   "cell_type": "code",
   "execution_count": null,
   "metadata": {},
   "outputs": [],
   "source": [
    "'''\n",
    "There are many ways to deal with missing values, \n",
    " and this is regardless of Python, R, or whatever\n",
    " tool you use.\n",
    " '''"
   ]
  },
  {
   "cell_type": "code",
   "execution_count": null,
   "metadata": {},
   "outputs": [],
   "source": [
    "# 1 La primera es verificar si la persona o grupo que recopiló los datos\n",
    "# puede regresar y encuentre cuál debería ser el valor real.\n",
    "\n",
    "# 2 Otra posibilidad es simplemente eliminar los datos donde\n",
    "# se encuentra ese valor faltante."
   ]
  },
  {
   "cell_type": "code",
   "execution_count": null,
   "metadata": {},
   "outputs": [],
   "source": [
    "# Drop the missing values\n",
    " # 1 Drop the variable\n",
    " # 2 Drop the data entry"
   ]
  },
  {
   "cell_type": "code",
   "execution_count": null,
   "metadata": {},
   "outputs": [],
   "source": [
    "#  Reemplazar datos es mejor, ya que no se desperdician datos.\n",
    "\n",
    "# replace it with an average(of similar datapoints) \n",
    "# Una técnica estándar de reemplazo es reemplazar los valores faltantes\n",
    "# por el valor promedio de la variable entera.\n",
    "\n",
    "# en el caso de que sea una varible no numerica usar el dato mas comun \n",
    "# de la variable\n",
    "# replace it by frequency\n",
    "\n",
    "# replace it based on other functions"
   ]
  },
  {
   "cell_type": "code",
   "execution_count": null,
   "metadata": {},
   "outputs": [],
   "source": [
    "## drop missin values in Python ##\n",
    "# Use dataframes.dropna()\n",
    "# specify 'axis=0' to drop the rows\n",
    "# specify 'axis=1' to drop the column\n",
    "\n",
    "# df.dropna(subset=['price], axis=0, inplace = True)"
   ]
  },
  {
   "cell_type": "code",
   "execution_count": null,
   "metadata": {},
   "outputs": [],
   "source": [
    "## Replace in Paython ##\n",
    "# dataframe.replace(missing_value, new_value):\n",
    "\n",
    "# reemplazando por promedio de columna\n",
    "# mean = df[''normalized-losses'].mean()\n",
    "# df['normalized-losses'].replace(np.nan,mean)"
   ]
  }
 ],
 "metadata": {
  "language_info": {
   "name": "python"
  },
  "orig_nbformat": 4
 },
 "nbformat": 4,
 "nbformat_minor": 2
}
