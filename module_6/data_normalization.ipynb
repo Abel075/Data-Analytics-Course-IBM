{
 "cells": [
  {
   "cell_type": "code",
   "execution_count": null,
   "metadata": {},
   "outputs": [],
   "source": [
    "'''\n",
    "NOT NORMALIZED\n",
    "\n",
    "Age       |   Income\n",
    "20        |   1000000\n",
    "30        |   20000\n",
    "40        |   500000\n",
    "\n",
    "'''"
   ]
  },
  {
   "cell_type": "code",
   "execution_count": null,
   "metadata": {},
   "outputs": [],
   "source": [
    "# Age and Income are different range\n",
    "# hard to compare\n",
    "# Income will influence the result more"
   ]
  },
  {
   "cell_type": "code",
   "execution_count": null,
   "metadata": {},
   "outputs": [],
   "source": [
    "'''\n",
    "NORMALIZED\n",
    "\n",
    "Age        |   Income\n",
    "0.2        |    0.2\n",
    "0.3        |    0.3\n",
    "0.4        |    1\n",
    "\n",
    "\n",
    "'''"
   ]
  },
  {
   "cell_type": "code",
   "execution_count": null,
   "metadata": {},
   "outputs": [],
   "source": [
    "# The first method, called “simple feature scaling”\n",
    "\n",
    " #  Xnew = Xold\n",
    " #         Xmax\n",
    " \n",
    " # df['length'] = df['length']/df['length'].max()"
   ]
  },
  {
   "cell_type": "code",
   "execution_count": null,
   "metadata": {},
   "outputs": [],
   "source": [
    "# The second method, called “Min-Max”, takes each value, X_old,\n",
    "# subtracted from the minimum value of that feature, then divides by\n",
    "\n",
    "# Xnew = Xold - Xmin\n",
    "#        Xmax - Xmin\n",
    "\n",
    "# df['length'] = (df['length']/df['length'].max()) /\n",
    "#                (df['length'].max()-df['length'].min())\n",
    "\n",
    "# Nuevamente, los nuevos valores resultantes oscilan entre 0 y 1."
   ]
  },
  {
   "cell_type": "code",
   "execution_count": null,
   "metadata": {},
   "outputs": [],
   "source": [
    "# The third method is called “z-score” or “standard score”.\n",
    "\n",
    "# Xnew = Xold-u\n",
    "#          o\n",
    "\n",
    "# df['length'] = (df['length'].mean())/df['length'].std()"
   ]
  },
  {
   "cell_type": "code",
   "execution_count": null,
   "metadata": {},
   "outputs": [],
   "source": []
  }
 ],
 "metadata": {
  "language_info": {
   "name": "python"
  },
  "orig_nbformat": 4
 },
 "nbformat": 4,
 "nbformat_minor": 2
}
