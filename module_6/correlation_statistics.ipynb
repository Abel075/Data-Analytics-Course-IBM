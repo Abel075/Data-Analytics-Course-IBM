{
 "cells": [
  {
   "cell_type": "code",
   "execution_count": null,
   "metadata": {},
   "outputs": [],
   "source": [
    "'''\n",
    "Pearson correlation\n",
    "    Measure the strenght o the correlation between two features.\n",
    "    Correlation coefficient\n",
    "    P-value\n",
    "Correlation coefficent\n",
    "    Close to +1: Large Positive relationship\n",
    "    Close to -1: Large Negative relationship\n",
    "    Close to 0: No relationship\n",
    "P-value\n",
    "    P-value < 0.001 Strong certainty in the result\n",
    "    P-value < 0.05  Moderate certainty in the result\n",
    "    P-value < 0.1   Weak certainty in the result\n",
    "    P-value > 0.1   No certainty in the result\n",
    "    \n",
    "Strong Correlation:\n",
    "    Correlation coefficient close to 1 or -1\n",
    "    P values less than 0.001\n",
    "'''"
   ]
  },
  {
   "cell_type": "code",
   "execution_count": null,
   "metadata": {},
   "outputs": [],
   "source": [
    "# Example\n",
    "# pearson_coef, p_value = stats.pearsonr(df['horsepower'], df['price'])\n",
    "\n",
    "    #Person correlation: 0.81\n",
    "    #P-value: 9.35 e-48"
   ]
  }
 ],
 "metadata": {
  "language_info": {
   "name": "python"
  },
  "orig_nbformat": 4
 },
 "nbformat": 4,
 "nbformat_minor": 2
}
