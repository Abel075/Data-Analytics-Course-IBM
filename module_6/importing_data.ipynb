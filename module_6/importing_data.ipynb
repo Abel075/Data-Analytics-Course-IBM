{
 "cells": [
  {
   "cell_type": "code",
   "execution_count": null,
   "metadata": {},
   "outputs": [],
   "source": [
    "# Importing data\n",
    "# Two important propies:\n",
    "\n",
    " #Format- various formats: .csv .json .xlsx .hdf\n",
    " # File paht of dataset\n",
    "    #Computer : /Desktop/mydata.csv\n",
    "    #Internet: https://archive.ics.uci.edu/autos/imports-85.data\n"
   ]
  },
  {
   "cell_type": "code",
   "execution_count": null,
   "metadata": {},
   "outputs": [],
   "source": [
    "'''import pandas as pd\n",
    "\n",
    " url = 'url'\n",
    " df = pd.read(url, header = None) especifica que no contiene encabezado, default enteros\n",
    " ''' "
   ]
  },
  {
   "cell_type": "code",
   "execution_count": null,
   "metadata": {},
   "outputs": [],
   "source": [
    "# df prints the entire dataframe (not recommended for large datasets)\n",
    "# df.head(n) to show the first n rows of data frame\n",
    "# df.tail(n) shows the bottom n rows of data frame"
   ]
  },
  {
   "cell_type": "code",
   "execution_count": null,
   "metadata": {},
   "outputs": [],
   "source": [
    "# remplece default header ( by df.columns = headers)\n",
    "\n",
    "# headers = ['symboling', 'make','aspiration','etc'] definimos los encabezados\n",
    "# df.columns = headers  reemplazamos los headers\n",
    "# df.head(5)"
   ]
  }
 ],
 "metadata": {
  "language_info": {
   "name": "python"
  },
  "orig_nbformat": 4
 },
 "nbformat": 4,
 "nbformat_minor": 2
}
