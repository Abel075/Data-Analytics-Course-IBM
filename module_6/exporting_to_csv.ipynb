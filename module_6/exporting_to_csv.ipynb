{
 "cells": [
  {
   "cell_type": "code",
   "execution_count": null,
   "metadata": {},
   "outputs": [],
   "source": [
    "# For example, if you would like to save the dataframe \"df\" as \"automobile.csv\" to your\n",
    "#own computer, you can use the syntax: df.to_csv (\"automobile.csv\")\n",
    "\n",
    "# path = 'C:\\windows\\...\\automobile.csv'\n",
    "\n",
    "# df.to_csv(path)"
   ]
  },
  {
   "cell_type": "code",
   "execution_count": null,
   "metadata": {},
   "outputs": [],
   "source": [
    "# Data Format   | Read              | Save\n",
    "# csv           |  pd.read_csv()    |  df.to_csv()\n",
    "# json          |  pd.read_json()   |  df.to_json()\n",
    "# Exel          |  pd.read_exel()   |  df.to_exel()\n",
    "# sql           |  pd.read_sql()    |  df.to_sql()     "
   ]
  }
 ],
 "metadata": {
  "language_info": {
   "name": "python"
  },
  "orig_nbformat": 4
 },
 "nbformat": 4,
 "nbformat_minor": 2
}
