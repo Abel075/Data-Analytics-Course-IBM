{
 "cells": [
  {
   "cell_type": "code",
   "execution_count": null,
   "metadata": {},
   "outputs": [],
   "source": [
    "# Exploratory Data Analysis\n",
    " # Preliminary step in data analysis to:\n",
    " #Gain better understanding of the data set\n",
    " #Uncover relationships between variables\n",
    " #Extract important variables\n",
    " \n"
   ]
  },
  {
   "cell_type": "code",
   "execution_count": null,
   "metadata": {},
   "outputs": [],
   "source": [
    "# Objectives:\n",
    "    #Descriptive Statistics\n",
    "    #GroupBy\n",
    "    #ANOVA\n",
    "    #Correlation\n",
    "    #Correlation - Statistics"
   ]
  },
  {
   "cell_type": "code",
   "execution_count": null,
   "metadata": {},
   "outputs": [],
   "source": [
    "'''\n",
    "Descriptive Statistics\n",
    "    Describe basic features of data\n",
    "    Giving short summaries about the sample and measures of the data\n",
    "    \n",
    "    \n",
    "    df.describe()\n",
    "    \n",
    "    \n",
    "    Summarize the categorical dat is by using the values_counts()\n",
    "    \n",
    "    drive_wheels_counts = df['drive-wheels'].values_counts()\n",
    "    \n",
    "    drive_wheels_counts.rename(columns={'drive-wheels':'value_counts'}, inplace=True)\n",
    "    \n",
    "    drive_weels_counts.index.name='drive-wheels'\n",
    " \n",
    "'''\n"
   ]
  },
  {
   "cell_type": "code",
   "execution_count": null,
   "metadata": {},
   "outputs": [],
   "source": [
    "'''\n",
    "*Box Plots:* también conocido como diagrama de caja y bigotes,\n",
    "es una representación gráfica que muestra la distribución de un conjunto\n",
    "de datos numéricos a través de cinco estadísticas resumidas: el valor mínimo,\n",
    "el primer cuartil (Q1), la mediana (Q2 o valor medio), el tercer cuartil (Q3)\n",
    "y el valor máximo. \n",
    "\n",
    "\n",
    "\n",
    "sns.boxplot(x= 'drive-wheels', y='price',data=df)\n",
    "\n",
    "\n",
    "\n",
    "\n",
    "\n",
    "\n",
    "\n",
    "Each observation represent as a point\n",
    "\n",
    "*Scatter plot* Show the relationship between two variables\n",
    "\n",
    "El scatter plot es especialmente útil para identificar patrones,\n",
    "tendencias o correlaciones entre las variables. \n",
    "\n",
    "Además de mostrar la relación entre dos variables numéricas,\n",
    "los scatter plots también pueden incluir información adicional\n",
    "mediante la codificación de características adicionales en los\n",
    "puntos, como el tamaño o el color, para representar otra variable\n",
    "categórica o numérica.\n",
    "\n",
    " Predictor/independent variables on x-axis\n",
    " Target/dependent variables on y-axis\n",
    "\n",
    "Example:\n",
    "\n",
    "y=df['engine-size']\n",
    "x=dt['price']\n",
    "plt.scatter(x,y)\n",
    "\n",
    "plt.title('Scatterplot of Engine Size vs Price')\n",
    "plt.xlabel('Engine Size')\n",
    "plt.xlabel('Price')\n",
    "\n",
    "\n",
    "'''\n"
   ]
  }
 ],
 "metadata": {
  "language_info": {
   "name": "python"
  },
  "orig_nbformat": 4
 },
 "nbformat": 4,
 "nbformat_minor": 2
}
