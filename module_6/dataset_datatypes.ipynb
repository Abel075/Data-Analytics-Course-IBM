{
 "cells": [
  {
   "cell_type": "code",
   "execution_count": null,
   "metadata": {},
   "outputs": [],
   "source": [
    "'''\n",
    "basic insights of dataset\n",
    "\n",
    "Pandas Type              | Native Python Type | Description\n",
    "object                   | String             | Numbers and strings\n",
    "int64                    | Int                | Numeric characters\n",
    "float64                  | float              | Numeric characters with decimals\n",
    "detetime,timedelta[ns]   | N/A                | time data\n",
    "\n",
    "\n",
    "'''"
   ]
  },
  {
   "cell_type": "code",
   "execution_count": null,
   "metadata": {},
   "outputs": [],
   "source": [
    "# Why check data types?\n",
    "# potencial info and type mismatch\n",
    "# compatibility with python methods"
   ]
  },
  {
   "cell_type": "code",
   "execution_count": null,
   "metadata": {},
   "outputs": [],
   "source": [
    "# In pandas, we use dataframes.dtypes to check data types\n",
    "# df.dtypes\n"
   ]
  },
  {
   "cell_type": "code",
   "execution_count": null,
   "metadata": {},
   "outputs": [],
   "source": [
    "# Returns a statistical summary\n",
    "# df.describe()\n",
    "# full summary statistics\n",
    "# df.describe(include='all')\n",
    "# df.info()"
   ]
  }
 ],
 "metadata": {
  "language_info": {
   "name": "python"
  },
  "orig_nbformat": 4
 },
 "nbformat": 4,
 "nbformat_minor": 2
}
