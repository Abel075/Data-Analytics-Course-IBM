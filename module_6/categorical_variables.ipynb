{
 "cells": [
  {
   "cell_type": "code",
   "execution_count": null,
   "metadata": {},
   "outputs": [],
   "source": [
    "# Most statistical models cannot take in the objects/strings as input"
   ]
  },
  {
   "cell_type": "code",
   "execution_count": null,
   "metadata": {},
   "outputs": [],
   "source": [
    "# Solution: One-hot encoding\n",
    "# Add dummy variables for each unique category\n",
    "# Assign 0 or 1 each category\n"
   ]
  },
  {
   "cell_type": "code",
   "execution_count": null,
   "metadata": {},
   "outputs": [],
   "source": [
    "# Use pandas.get_dummies() method\n",
    "# Convert categorical variables to dummy variables(0 or 1)\n",
    "# pd.get_dummies(df['fuel'])"
   ]
  }
 ],
 "metadata": {
  "language_info": {
   "name": "python"
  },
  "orig_nbformat": 4
 },
 "nbformat": 4,
 "nbformat_minor": 2
}
