{
 "cells": [
  {
   "cell_type": "code",
   "execution_count": null,
   "metadata": {},
   "outputs": [],
   "source": [
    "'''\n",
    "Binning: Grouping of values into 'bins' categorizacion\n",
    "Converts numeric into categorical variables\n",
    "Groups a set of numerical values into a set of 'bins'\n",
    "'''"
   ]
  },
  {
   "cell_type": "code",
   "execution_count": null,
   "metadata": {},
   "outputs": [],
   "source": [
    "'''\n",
    "bins = np.linspace(min(df['price']),max(df['price'],4))\n",
    "group_names = ['Low','Medium','High']\n",
    "\n",
    "df['price-binned'] = pd.cut(df['price'],bins,labels=group_names,include_lowest=True)\n",
    "'''"
   ]
  }
 ],
 "metadata": {
  "language_info": {
   "name": "python"
  },
  "orig_nbformat": 4
 },
 "nbformat": 4,
 "nbformat_minor": 2
}
