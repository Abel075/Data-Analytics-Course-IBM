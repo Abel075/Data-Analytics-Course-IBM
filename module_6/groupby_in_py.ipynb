{
 "cells": [
  {
   "cell_type": "code",
   "execution_count": 5,
   "metadata": {},
   "outputs": [
    {
     "data": {
      "text/plain": [
       "\"\\nEl método groupby() en pandas es una poderosa función que permite agrupar\\ny segmentar un DataFrame según los valores de una o varias columnas. \\n\\n\\n# df.groupby('columna')\\n\\n También puedes proporcionar una lista de columnas\\n si deseas agrupar por múltiples columnas.\\n \\n \\n Aplicar una función de agregación, como la media, a cada grupo:\\n df.groupby('columna').mean()\\n\\nContar el número de elementos en cada grupo:\\ndf.groupby('columna').size()\\n\\nFiltrar datos basados en alguna condición en el grupo:\\ndf.groupby('columna').filter(lambda x: x['columna2'].mean() > 5)\\n\\nCalcular estadísticas resumidas, como la media y el desvío estándar,\\npara cada grupo:\\n\\ndf.groupby('columna').agg({'columna2': ['mean', 'std'], 'columna3': 'max'})\\n\\n\\n\""
      ]
     },
     "execution_count": 5,
     "metadata": {},
     "output_type": "execute_result"
    }
   ],
   "source": [
    "'''\n",
    "El método groupby() en pandas es una poderosa función que permite agrupar\n",
    "y segmentar un DataFrame según los valores de una o varias columnas. \n",
    "\n",
    "\n",
    "# df.groupby('columna')\n",
    "\n",
    " También puedes proporcionar una lista de columnas\n",
    " si deseas agrupar por múltiples columnas.\n",
    " \n",
    " \n",
    " Aplicar una función de agregación, como la media, a cada grupo:\n",
    " df.groupby('columna').mean()\n",
    "\n",
    "Contar el número de elementos en cada grupo:\n",
    "df.groupby('columna').size()\n",
    "\n",
    "Filtrar datos basados en alguna condición en el grupo:\n",
    "df.groupby('columna').filter(lambda x: x['columna2'].mean() > 5)\n",
    "\n",
    "Calcular estadísticas resumidas, como la media y el desvío estándar,\n",
    "para cada grupo:\n",
    "\n",
    "df.groupby('columna').agg({'columna2': ['mean', 'std'], 'columna3': 'max'})\n",
    "\n",
    "\n",
    "'''"
   ]
  },
  {
   "cell_type": "code",
   "execution_count": 6,
   "metadata": {},
   "outputs": [
    {
     "data": {
      "text/plain": [
       "\"\\nExample:\\n\\ndf_test = df[['drive-wheels', 'body-style','price']]\\ndf_grp = df_test.groupby(['drive-wheels','body-style'], as_index=False).mean()\\n\\ndf_grp\\n\\n\""
      ]
     },
     "execution_count": 6,
     "metadata": {},
     "output_type": "execute_result"
    }
   ],
   "source": [
    "'''\n",
    "Example:\n",
    "\n",
    "df_test = df[['drive-wheels', 'body-style','price']]\n",
    "df_grp = df_test.groupby(['drive-wheels','body-style'], as_index=False).mean()\n",
    "\n",
    "df_grp\n",
    "\n",
    "'''"
   ]
  },
  {
   "cell_type": "code",
   "execution_count": 7,
   "metadata": {},
   "outputs": [
    {
     "data": {
      "text/plain": [
       "'\\npivot() method\\nuna función que permite reorganizar y transformar un DataFrame \\nal reorganizar los valores de una columna en nuevas columnas.\\nCon pivot(), puedes cambiar la estructura de los datos y crear \\nuna nueva tabla basada en los valores de una columna específica.\\n\\n\\ndf.pivot(index, columns, values)\\n\\nindex: La columna (o columnas) que se utilizará como índice en el nuevo DataFrame pivoteado.\\ncolumns: La columna cuyos valores se utilizarán para crear nuevas columnas en el DataFrame pivoteado.\\nvalues: La columna que contiene los valores a reorganizar y colocar en las nuevas columnas.\\n\\n\\n\\n'"
      ]
     },
     "execution_count": 7,
     "metadata": {},
     "output_type": "execute_result"
    }
   ],
   "source": [
    "'''\n",
    "pivot() method\n",
    "una función que permite reorganizar y transformar un DataFrame \n",
    "al reorganizar los valores de una columna en nuevas columnas.\n",
    "Con pivot(), puedes cambiar la estructura de los datos y crear \n",
    "una nueva tabla basada en los valores de una columna específica.\n",
    "\n",
    "\n",
    "df.pivot(index, columns, values)\n",
    "\n",
    "index: La columna (o columnas) que se utilizará como índice en el nuevo DataFrame pivoteado.\n",
    "columns: La columna cuyos valores se utilizarán para crear nuevas columnas en el DataFrame pivoteado.\n",
    "values: La columna que contiene los valores a reorganizar y colocar en las nuevas columnas.\n",
    "\n",
    "\n",
    "\n",
    "'''\n",
    "\n",
    "\n"
   ]
  },
  {
   "cell_type": "code",
   "execution_count": 8,
   "metadata": {},
   "outputs": [
    {
     "name": "stdout",
     "output_type": "stream",
     "text": [
      "Ciudad       A   B\n",
      "Fecha             \n",
      "2023-06-01  10  20\n",
      "2023-06-02  15  25\n"
     ]
    }
   ],
   "source": [
    "import pandas as pd\n",
    "import matplotlib.pyplot as plt\n",
    "\n",
    "\n",
    "data = {'Fecha': ['2023-06-01', '2023-06-02', '2023-06-01', '2023-06-02'],\n",
    "        'Ciudad': ['A', 'A', 'B', 'B'],\n",
    "        'Valor': [10, 15, 20, 25]}\n",
    "\n",
    "df = pd.DataFrame(data)\n",
    "\n",
    "df_pivot = df.pivot(index='Fecha', columns='Ciudad', values='Valor')\n",
    "print(df_pivot)\n"
   ]
  },
  {
   "cell_type": "code",
   "execution_count": 9,
   "metadata": {},
   "outputs": [
    {
     "data": {
      "image/png": "[encoded data removed]",
      "text/plain": [
       "<Figure size 640x480 with 2 Axes>"
      ]
     },
     "metadata": {},
     "output_type": "display_data"
    }
   ],
   "source": [
    "plt.pcolor(df_pivot, cmap='RdBu')\n",
    "plt.colorbar()\n",
    "plt.show()"
   ]
  }
 ],
 "metadata": {
  "kernelspec": {
   "display_name": "Python 3",
   "language": "python",
   "name": "python3"
  },
  "language_info": {
   "codemirror_mode": {
    "name": "ipython",
    "version": 3
   },
   "file_extension": ".py",
   "mimetype": "text/x-python",
   "name": "python",
   "nbconvert_exporter": "python",
   "pygments_lexer": "ipython3",
   "version": "3.10.8"
  },
  "orig_nbformat": 4
 },
 "nbformat": 4,
 "nbformat_minor": 2
}
