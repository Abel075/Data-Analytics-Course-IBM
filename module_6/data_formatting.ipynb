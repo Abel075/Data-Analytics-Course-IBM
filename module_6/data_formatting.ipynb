{
 "cells": [
  {
   "cell_type": "code",
   "execution_count": null,
   "metadata": {},
   "outputs": [],
   "source": [
    "# As a part of dataset cleaning, data formatting ensures that data \n",
    "# is consistent and easily understandable."
   ]
  },
  {
   "cell_type": "code",
   "execution_count": null,
   "metadata": {},
   "outputs": [],
   "source": [
    "# convertir un columna un otros valores\n",
    "# 'mpg' to 'L/100km' in car dataset\n",
    "# df['city-mpg'] = 235/df['city-mpg']\n",
    "# df.rename(columns={'city_mpg': 'city-L/100km'}, inplace=True)"
   ]
  },
  {
   "cell_type": "code",
   "execution_count": null,
   "metadata": {},
   "outputs": [],
   "source": [
    "# identify data types:\n",
    "# df.dtypes()\n",
    "\n",
    "# Convert data types:\n",
    "# df.astype()\n",
    "\n",
    "# Example convert data type to integer in column 'price'\n",
    "# df['price'] = df['price'].astype('int')"
   ]
  }
 ],
 "metadata": {
  "language_info": {
   "name": "python"
  },
  "orig_nbformat": 4
 },
 "nbformat": 4,
 "nbformat_minor": 2
}
