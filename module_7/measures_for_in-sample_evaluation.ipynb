{
 "cells": [
  {
   "cell_type": "code",
   "execution_count": null,
   "metadata": {},
   "outputs": [],
   "source": [
    "# A way to numerically determine how good the model fits on dataset\n",
    "\n",
    "# Two important measures to detrmine the fit of a model:\n",
    "\n",
    "    #Mean Squared Error (MSE)\n",
    "    #R-squared(R^2)\n"
   ]
  },
  {
   "cell_type": "code",
   "execution_count": null,
   "metadata": {},
   "outputs": [],
   "source": [
    "'''\n",
    "From sklearn.metrics import mean_squared_error\n",
    "\n",
    "mean_squared_error(df['price'], y_predict_simple_fit)\n",
    "\n",
    "\n",
    "X = df[['highway-mpg']]\n",
    "y = df['price']\n",
    "\n",
    "lm.fit(X,Y)\n",
    "\n",
    "\n",
    "'''"
   ]
  }
 ],
 "metadata": {
  "language_info": {
   "name": "python"
  },
  "orig_nbformat": 4
 },
 "nbformat": 4,
 "nbformat_minor": 2
}
