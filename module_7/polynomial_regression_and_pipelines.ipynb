{
 "cells": [
  {
   "cell_type": "code",
   "execution_count": null,
   "metadata": {},
   "outputs": [],
   "source": [
    "'''\n",
    "This method is beneficial for describing curvilinear relationships.\n",
    "\n",
    "A special case of the general linear regression model\n",
    "Useful for describing curvilinear relantionships\n",
    "\n",
    "\n",
    "*Curvilinear relationships\n",
    "\n",
    "By squaring or setting higher=order terms of the predictor variables\n",
    "\n",
    "Quadratic -2 order\n",
    " Y = bo + b1 x1 + b2(x1)2\n",
    " \n",
    " Cubic -3 order\n",
    " Y = bo + b1 x1 + b2(x1)2 + b3(x1)3\n",
    " \n",
    " Higher order\n",
    " Y = bo + b1 x1 + b2(x1)2 + b3(x1)3 +..\n",
    "\n",
    "\n",
    "'''"
   ]
  },
  {
   "cell_type": "code",
   "execution_count": null,
   "metadata": {},
   "outputs": [],
   "source": [
    "'''\n",
    "1 Calculate Polynomial of 3 order\n",
    "\n",
    "f=np.polyfit(x,y,3)\n",
    "p=np.polyld(f)\n",
    "\n",
    "\n",
    "2 We can print out the model\n",
    "print(p)\n",
    "\n",
    "\n",
    "\n",
    "'''"
   ]
  },
  {
   "cell_type": "code",
   "execution_count": null,
   "metadata": {},
   "outputs": [],
   "source": [
    "'''\n",
    "The preprocessing library in scikit-learn\n",
    "\n",
    "from sklearn.preprocessing import PolynomialFeatures\n",
    "\n",
    "pr= PolynomialFeatures(degree=2, include_bias=False)\n",
    "x_polly=pr.fit_transform(x['horsepower', 'curb-weight'])\n",
    "\n",
    "\n",
    "\n",
    "'''"
   ]
  },
  {
   "cell_type": "code",
   "execution_count": null,
   "metadata": {},
   "outputs": [],
   "source": [
    "'''\n",
    "Pre-Processing\n",
    "For example we can Normalize the each feature simultaneously:\n",
    "\n",
    "from sklearn.preprocessing import StandarScaler\n",
    "\n",
    "SCALE=StandardScaler()\n",
    "SCALE.fit(x_data[['horsepower', 'highway-mpg']])\n",
    "\n",
    "x_scale = SCALE.transform(x_data[['horsepower', 'highway-mpg']])\n",
    "\n",
    "\n",
    "\n",
    "\n",
    "'''"
   ]
  },
  {
   "cell_type": "code",
   "execution_count": null,
   "metadata": {},
   "outputs": [],
   "source": [
    "'''\n",
    "Pipelines sequentially perform a series of transformation.\n",
    "\n",
    "We can train the pipeline object\n",
    "\n",
    "Pipe.train(X['horsepower', 'curb-weight', 'engine-size', 'highway-mpg'],y)\n",
    "\n",
    "yhat=Pipe.predict(X[['horsepower', 'curb-weight', 'engine-size', 'highway-mpg']])\n",
    "\n",
    "\n",
    "'''"
   ]
  }
 ],
 "metadata": {
  "language_info": {
   "name": "python"
  },
  "orig_nbformat": 4
 },
 "nbformat": 4,
 "nbformat_minor": 2
}
