{
 "cells": [
  {
   "cell_type": "code",
   "execution_count": null,
   "metadata": {},
   "outputs": [],
   "source": [
    "'''\n",
    "First we train the model\n",
    "lm.fit(df['highway-mpg'], df['prices'])\n",
    "\n",
    "\n",
    "Lets predict the price of a car with 30 highway-mpg\n",
    "lm.predict(30)\n",
    "\n",
    "Result: $13771.30\n",
    "\n",
    "\n",
    "\n",
    "\n",
    "\n",
    "'''"
   ]
  },
  {
   "cell_type": "code",
   "execution_count": null,
   "metadata": {},
   "outputs": [],
   "source": [
    "'''\n",
    "First we import numpy\n",
    "import mumpy as np\n",
    "\n",
    "We use the numpy function arrage to generate a sequence from 1 to 100\n",
    "\n",
    "new_input = np.arange(1,101,1).reshape(-1,1)\n",
    "\n",
    "\n",
    "\n",
    "'''"
   ]
  }
 ],
 "metadata": {
  "language_info": {
   "name": "python"
  },
  "orig_nbformat": 4
 },
 "nbformat": 4,
 "nbformat_minor": 2
}
