{
 "cells": [
  {
   "cell_type": "code",
   "execution_count": 2,
   "metadata": {},
   "outputs": [
    {
     "data": {
      "text/plain": [
       "'\\nRegression Plot\\nWhy use regression plot?\\n\\nIt gives us a good estimate of:\\n1 The relationships between two variables\\n2 The strength of the correlation\\n3 The direction of the relationship (positive or negative)\\n'"
      ]
     },
     "execution_count": 2,
     "metadata": {},
     "output_type": "execute_result"
    }
   ],
   "source": [
    "'''\n",
    "Regression Plot\n",
    "Why use regression plot?\n",
    "\n",
    "It gives us a good estimate of:\n",
    "1 The relationships between two variables\n",
    "2 The strength of the correlation\n",
    "3 The direction of the relationship (positive or negative)\n",
    "'''"
   ]
  },
  {
   "cell_type": "code",
   "execution_count": 3,
   "metadata": {},
   "outputs": [],
   "source": [
    "# Regression Plot shows us a combination of:\n",
    "# The scatterplot: where each point represents a different y\n",
    "# The fitted linear regression line (y)"
   ]
  },
  {
   "cell_type": "code",
   "execution_count": 4,
   "metadata": {},
   "outputs": [
    {
     "data": {
      "text/plain": [
       "\"\\nimport seaborn as sns\\nimport matplotlib.pyplot as plt\\n\\nsns.regplot(x='highway-mpg', y='price', data=df)\\nplt.ylim(0,)\\n\""
      ]
     },
     "execution_count": 4,
     "metadata": {},
     "output_type": "execute_result"
    }
   ],
   "source": [
    "'''\n",
    "import seaborn as sns\n",
    "import matplotlib.pyplot as plt\n",
    "\n",
    "sns.regplot(x='highway-mpg', y='price', data=df)\n",
    "plt.ylim(0,)\n",
    "'''"
   ]
  },
  {
   "cell_type": "code",
   "execution_count": null,
   "metadata": {},
   "outputs": [],
   "source": [
    "'''\n",
    "Residual plot\n",
    "\n",
    "import seaborn as sns\n",
    "sns.residplot(df['highway-mpg'], df['price'])\n",
    "\n",
    "'''"
   ]
  },
  {
   "cell_type": "code",
   "execution_count": null,
   "metadata": {},
   "outputs": [],
   "source": [
    "'''\n",
    "Distribution plots\n",
    "\n",
    "axl = sns.displot(df['price'], hist=False, color='r', label='Actual values')\n",
    "\n",
    "sns.displot(Yhat, his-False, color='b', label='Fitted value', ax=ax1)\n",
    "\n",
    "\n",
    "'''"
   ]
  }
 ],
 "metadata": {
  "kernelspec": {
   "display_name": "Python 3",
   "language": "python",
   "name": "python3"
  },
  "language_info": {
   "codemirror_mode": {
    "name": "ipython",
    "version": 3
   },
   "file_extension": ".py",
   "mimetype": "text/x-python",
   "name": "python",
   "nbconvert_exporter": "python",
   "pygments_lexer": "ipython3",
   "version": "3.10.8"
  },
  "orig_nbformat": 4
 },
 "nbformat": 4,
 "nbformat_minor": 2
}
