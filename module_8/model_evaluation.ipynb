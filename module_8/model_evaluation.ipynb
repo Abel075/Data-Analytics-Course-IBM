{
 "cells": [
  {
   "cell_type": "code",
   "execution_count": null,
   "metadata": {},
   "outputs": [],
   "source": [
    "'''\n",
    "Training / Testing sets\n",
    "Separating data into training and testing sets is an important part of model evaluation.\n",
    "\n",
    "Split dataset into:\n",
    "    Training set 70%\n",
    "    Testing set 30%\n",
    "\n",
    "Build and train the model with a training set\n",
    "Use testing set to assess the performance os a predictive model\n",
    "When we have completed testing our model we should use all the data to\n",
    "train the model to get the best performance\n",
    "'''"
   ]
  },
  {
   "cell_type": "code",
   "execution_count": null,
   "metadata": {},
   "outputs": [],
   "source": [
    "'''\n",
    "Function train_test_split() \n",
    "Split data into random train and test subsets\n",
    "\n",
    "'''"
   ]
  },
  {
   "cell_type": "code",
   "execution_count": null,
   "metadata": {},
   "outputs": [],
   "source": [
    "'''\n",
    "Cross Validation\n",
    "\n",
    "Most common out-of-dample evaluation metrics\n",
    "More effective uise of data (each observation is used for both training and testing)\n",
    "\n",
    "\n",
    "'''"
   ]
  },
  {
   "cell_type": "code",
   "execution_count": null,
   "metadata": {},
   "outputs": [],
   "source": [
    "'''\n",
    "Function cross_val_score()\n",
    "\n",
    "form sklearn.model_selection import cross_val_score\n",
    "\n",
    "    scores=cross_val_score(lr,x_data y_data,cv=3)\n",
    "\n",
    "'''"
   ]
  },
  {
   "cell_type": "code",
   "execution_count": null,
   "metadata": {},
   "outputs": [],
   "source": [
    "'''\n",
    "Function cross_val_predict()\n",
    "\n",
    "It retuns the prediction that was obtained for each element when it was in the test set\n",
    "\n",
    "Has a similar interface to cross_val_score()\n",
    "\n",
    "\n",
    "'''"
   ]
  },
  {
   "cell_type": "code",
   "execution_count": null,
   "metadata": {},
   "outputs": [],
   "source": [
    "'''\n",
    "From sklearn.model_selection import cross_val_predict\n",
    "\n",
    "yhat = cross_val_predict(lr2e, x_data, y_data, cv=3)\n",
    "\n",
    "\n",
    "\n",
    "\n",
    "'''"
   ]
  }
 ],
 "metadata": {
  "language_info": {
   "name": "python"
  },
  "orig_nbformat": 4
 },
 "nbformat": 4,
 "nbformat_minor": 2
}
