{
 "cells": [
  {
   "cell_type": "code",
   "execution_count": null,
   "metadata": {},
   "outputs": [],
   "source": [
    "'''\n",
    "Grid search, o búsqueda en cuadrícula, es una técnica utilizada\n",
    "en aprendizaje automático para encontrar los mejores hiperparámetros\n",
    "para un modelo. Los hiperparámetros son configuraciones que no se aprenden\n",
    "directamente del modelo, sino que se establecen antes del proceso de\n",
    "entrenamiento y afectan el rendimiento y la capacidad del modelo.\n",
    "\n",
    "Además del grid search, también existen otras técnicas de búsqueda de \n",
    "hiperparámetros, como la búsqueda aleatoria y la optimización bayesiana,\n",
    "que pueden ser utilizadas para encontrar combinaciones óptimas\n",
    "de hiperparámetros.\n",
    "\n",
    "\n",
    "'''"
   ]
  },
  {
   "cell_type": "code",
   "execution_count": null,
   "metadata": {},
   "outputs": [],
   "source": [
    "# parameters = [{'alpha': [1,10,100,1000]}]\n",
    "\n",
    "\n",
    "# Ridge()"
   ]
  }
 ],
 "metadata": {
  "language_info": {
   "name": "python"
  },
  "orig_nbformat": 4
 },
 "nbformat": 4,
 "nbformat_minor": 2
}
