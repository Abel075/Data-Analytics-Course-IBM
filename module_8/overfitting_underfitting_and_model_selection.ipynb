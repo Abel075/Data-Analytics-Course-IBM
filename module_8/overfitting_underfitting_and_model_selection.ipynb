{
 "cells": [
  {
   "cell_type": "code",
   "execution_count": null,
   "metadata": {},
   "outputs": [],
   "source": [
    "'''\n",
    "El under-fitting (subajuste) ocurre cuando un modelo de aprendizaje\n",
    "automático no logra capturar adecuadamente las relaciones subyacentes\n",
    "en los datos. En otras palabras, el modelo es demasiado simple para\n",
    "representar la complejidad de los datos de entrenamiento.\n",
    "\n",
    "Algunos signos comunes de under-fitting son:\n",
    "\n",
    "El modelo tiene un bajo rendimiento en el conjunto de datos de entrenamiento,\n",
    "lo que se refleja en un error de entrenamiento alto.\n",
    "El modelo también tiene un bajo rendimiento en conjuntos de datos nuevos o\n",
    "de prueba.\n",
    "El modelo no logra capturar la variabilidad o la estructura subyacente de\n",
    "los datos, lo que se traduce en predicciones inexactas o poco precisas.\n",
    "\n",
    "\n",
    "'''"
   ]
  }
 ],
 "metadata": {
  "language_info": {
   "name": "python"
  },
  "orig_nbformat": 4
 },
 "nbformat": 4,
 "nbformat_minor": 2
}
