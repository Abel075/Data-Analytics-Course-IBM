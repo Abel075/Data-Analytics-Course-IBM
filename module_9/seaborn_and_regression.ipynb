{
 "cells": [
  {
   "cell_type": "code",
   "execution_count": null,
   "metadata": {},
   "outputs": [],
   "source": [
    "'''\n",
    "import seaborn as sns\n",
    "\n",
    "sns.lmplot(x='variable_x', y='variable_y', data=data_frame)\n",
    "\n",
    "En el código anterior, 'variable_x' y 'variable_y' representan los nombres\n",
    "de las columnas en el DataFrame data_frame que se utilizarán como variables\n",
    "independiente y dependiente, respectivamente. lmplot() ajustará automáticamente\n",
    "una línea de regresión lineal a los datos y la trazará junto con el gráfico\n",
    "de dispersión.\n",
    "\n",
    "\n",
    "La función principal de Seaborn para trazar una regresión lineal es lmplot().\n",
    "Esta función crea automáticamente un gráfico de dispersión (scatter plot)\n",
    "de dos variables junto con la línea de regresión ajustada\n",
    "\n",
    "\n",
    "'''"
   ]
  }
 ],
 "metadata": {
  "language_info": {
   "name": "python"
  },
  "orig_nbformat": 4
 },
 "nbformat": 4,
 "nbformat_minor": 2
}
