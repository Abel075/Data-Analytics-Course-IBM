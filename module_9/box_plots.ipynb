{
 "cells": [
  {
   "cell_type": "code",
   "execution_count": null,
   "metadata": {},
   "outputs": [],
   "source": [
    "'''\n",
    "df_japan = df_canada.loc[['Japan'], Years].transpose()\n",
    "\n",
    "df_japan.plot(king='box')\n",
    "\n",
    "plt.title('Title')\n",
    "plt.ylabel('N')\n",
    "\n",
    "plt.show()\n",
    "\n",
    "\n",
    "'''"
   ]
  }
 ],
 "metadata": {
  "language_info": {
   "name": "python"
  },
  "orig_nbformat": 4
 },
 "nbformat": 4,
 "nbformat_minor": 2
}
