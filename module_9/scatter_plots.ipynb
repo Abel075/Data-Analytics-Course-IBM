{
 "cells": [
  {
   "cell_type": "code",
   "execution_count": null,
   "metadata": {},
   "outputs": [],
   "source": [
    "'''\n",
    "\n",
    "question.plot(kind='scatter', x='column1', y='column2')\n",
    "\n",
    "In the above code, replace 'column1' and 'column2' with the actual column\n",
    "names from your DataFrame that you want to plot on the x-axis and y-axis,\n",
    "respectively.\n",
    "'''"
   ]
  }
 ],
 "metadata": {
  "language_info": {
   "name": "python"
  },
  "orig_nbformat": 4
 },
 "nbformat": 4,
 "nbformat_minor": 2
}
