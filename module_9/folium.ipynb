{
 "cells": [
  {
   "cell_type": "code",
   "execution_count": 1,
   "metadata": {},
   "outputs": [
    {
     "data": {
      "text/plain": [
       "'\\nFolium es una biblioteca de Python que se utiliza para crear mapas interactivos y visualizaciones geoespaciales. Está basada en la biblioteca JavaScript Leaflet.js\\ny permite generar mapas interactivos en HTML.\\n\\n\\n# Define the world map\\n    world_map = folium,Map()\\n    \\n# Dsiplay world map\\n    world_map\\n\\n# localization \\nworld_map = folium,Map(\\n    location=[56.130, -106.35],\\n    zoom_start=4\\n)\\n\\n'"
      ]
     },
     "execution_count": 1,
     "metadata": {},
     "output_type": "execute_result"
    }
   ],
   "source": [
    "'''\n",
    "Folium es una biblioteca de Python que se utiliza para crear mapas interactivos y visualizaciones geoespaciales. Está basada en la biblioteca JavaScript Leaflet.js\n",
    "y permite generar mapas interactivos en HTML.\n",
    "\n",
    "\n",
    "# Define the world map\n",
    "    world_map = folium,Map()\n",
    "    \n",
    "# Dsiplay world map\n",
    "    world_map\n",
    "\n",
    "# localization \n",
    "world_map = folium,Map(\n",
    "    location=[56.130, -106.35],\n",
    "    zoom_start=4\n",
    ")\n",
    "\n",
    "'''"
   ]
  },
  {
   "cell_type": "code",
   "execution_count": 5,
   "metadata": {},
   "outputs": [
    {
     "name": "stdout",
     "output_type": "stream",
     "text": [
      "Collecting folium\n",
      "  Downloading folium-0.14.0-py2.py3-none-any.whl (102 kB)\n",
      "\u001b[2K     \u001b[90m━━━━━━━━━━━━━━━━━━━━━━━━━━━━━━━━━━━━━━━\u001b[0m \u001b[32m102.3/102.3 kB\u001b[0m \u001b[31m2.5 MB/s\u001b[0m eta \u001b[36m0:00:00\u001b[0ma \u001b[36m0:00:01\u001b[0m\n",
      "\u001b[?25hCollecting branca>=0.6.0 (from folium)\n",
      "  Downloading branca-0.6.0-py3-none-any.whl (24 kB)\n",
      "Requirement already satisfied: jinja2>=2.9 in /home/codespace/.local/lib/python3.10/site-packages (from folium) (3.1.2)\n",
      "Requirement already satisfied: numpy in /home/codespace/.local/lib/python3.10/site-packages (from folium) (1.24.3)\n",
      "Requirement already satisfied: requests in /home/codespace/.local/lib/python3.10/site-packages (from folium) (2.31.0)\n",
      "Requirement already satisfied: MarkupSafe>=2.0 in /home/codespace/.local/lib/python3.10/site-packages (from jinja2>=2.9->folium) (2.1.3)\n",
      "Requirement already satisfied: charset-normalizer<4,>=2 in /home/codespace/.local/lib/python3.10/site-packages (from requests->folium) (3.1.0)\n",
      "Requirement already satisfied: idna<4,>=2.5 in /home/codespace/.local/lib/python3.10/site-packages (from requests->folium) (3.4)\n",
      "Requirement already satisfied: urllib3<3,>=1.21.1 in /home/codespace/.local/lib/python3.10/site-packages (from requests->folium) (2.0.3)\n",
      "Requirement already satisfied: certifi>=2017.4.17 in /home/codespace/.local/lib/python3.10/site-packages (from requests->folium) (2023.5.7)\n",
      "Installing collected packages: branca, folium\n",
      "Successfully installed branca-0.6.0 folium-0.14.0\n",
      "Note: you may need to restart the kernel to use updated packages.\n"
     ]
    }
   ],
   "source": [
    "#pip install folium"
   ]
  },
  {
   "cell_type": "code",
   "execution_count": 6,
   "metadata": {},
   "outputs": [],
   "source": [
    "\n",
    "import folium\n",
    "# Crear un objeto de mapa centrado en una ubicación específica\n",
    "mapa = folium.Map(location=[40.7128, -74.0060], zoom_start=12)\n",
    "\n",
    "# Agregar un marcador en una ubicación específica\n",
    "folium.Marker(location=[40.7128, -74.0060], popup='Nueva York').add_to(mapa)\n",
    "\n",
    "# Guardar el mapa como un archivo HTML\n",
    "mapa.save('mapa_interactivo.html')\n"
   ]
  },
  {
   "cell_type": "code",
   "execution_count": null,
   "metadata": {},
   "outputs": [],
   "source": [
    "# Create mark\n",
    "\n"
   ]
  }
 ],
 "metadata": {
  "kernelspec": {
   "display_name": "Python 3",
   "language": "python",
   "name": "python3"
  },
  "language_info": {
   "codemirror_mode": {
    "name": "ipython",
    "version": 3
   },
   "file_extension": ".py",
   "mimetype": "text/x-python",
   "name": "python",
   "nbconvert_exporter": "python",
   "pygments_lexer": "ipython3",
   "version": "3.10.8"
  },
  "orig_nbformat": 4
 },
 "nbformat": 4,
 "nbformat_minor": 2
}
