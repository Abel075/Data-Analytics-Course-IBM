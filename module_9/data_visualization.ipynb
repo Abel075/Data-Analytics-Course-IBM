{
 "cells": [
  {
   "cell_type": "code",
   "execution_count": null,
   "metadata": {},
   "outputs": [],
   "source": [
    "'''\n",
    "Why Build Visuals?\n",
    "\n",
    "1 For exploratory data analysis\n",
    "2 Communicate data clearly\n",
    "3 Share unbiased representation of data\n",
    "4 Use then to support recommendations to different stakeholders\n",
    "\n",
    "\n",
    "\n",
    "'''"
   ]
  },
  {
   "cell_type": "code",
   "execution_count": null,
   "metadata": {},
   "outputs": [],
   "source": [
    "'''\n",
    "Best Practices\n",
    "\n",
    "1 Less is more effective\n",
    "2 Less is more attractive\n",
    "3 Less is more impactive\n",
    "\n",
    "'''"
   ]
  },
  {
   "cell_type": "code",
   "execution_count": null,
   "metadata": {},
   "outputs": [],
   "source": [
    "'''\n",
    "Comprised of one main object - Artist:\n",
    "    Knows how to use the Renderer to draw on the canvas.\n",
    "Title, lines,tick labels, and images, all correspond to individual Artist instances.\n",
    "\n",
    "Two types of Artist objects:\n",
    "    1 Primitive: Line2D, Regtangle, Circle and Text\n",
    "    2 Composite: Axis, Tick, Axes and Figure\n",
    "\n",
    "Each composite artist may contain other composite artists as well as primitive artists\n",
    "\n",
    "'''"
   ]
  },
  {
   "cell_type": "code",
   "execution_count": 1,
   "metadata": {},
   "outputs": [],
   "source": [
    "# Histogram of some data using the Artist layer\n",
    "from matplotlib.backends.backend_agg import FigureCanvasAgg as FigureCanvas # Import Figure Canvas\n",
    "from matplotlib.figure import Figure # Import Figure artist\n",
    "fig = Figure()\n",
    "canvas = FigureCanvas(fig)"
   ]
  },
  {
   "cell_type": "code",
   "execution_count": 2,
   "metadata": {},
   "outputs": [],
   "source": [
    "# Create 10000 randoms numbers using numpy\n",
    "import numpy as np\n",
    "x = np.random.randn(10000)\n",
    "\n",
    "ax = fig.add_subplot(111) # create an axes artist"
   ]
  },
  {
   "cell_type": "code",
   "execution_count": 4,
   "metadata": {},
   "outputs": [],
   "source": [
    "ax.hist(x,100) # generate a histogram of the 10000 numbers\n",
    "\n",
    "# add a title to the figure and save it\n",
    "\n",
    "ax.set_title('Normal distribution with $\\mu-o, \\sigma=1$')\n",
    "fig.savefig('matplotlib_histogram.png')"
   ]
  },
  {
   "cell_type": "code",
   "execution_count": 5,
   "metadata": {},
   "outputs": [
    {
     "data": {
      "image/png": "[encoded data removed]",
      "text/plain": [
       "<Figure size 640x480 with 1 Axes>"
      ]
     },
     "metadata": {},
     "output_type": "display_data"
    }
   ],
   "source": [
    "# histogram with pyplot interface\n",
    "\n",
    "import matplotlib.pyplot as plt\n",
    "\n",
    "x = np.random.randn(10000)\n",
    "plt.hist(x,100)\n",
    "plt.title(r'Normal distribution with $\\mu=0, \\sigma=1$')\n",
    "plt.savefig('matplotlib_histogram.png')\n",
    "plt.show()"
   ]
  }
 ],
 "metadata": {
  "kernelspec": {
   "display_name": "Python 3",
   "language": "python",
   "name": "python3"
  },
  "language_info": {
   "codemirror_mode": {
    "name": "ipython",
    "version": 3
   },
   "file_extension": ".py",
   "mimetype": "text/x-python",
   "name": "python",
   "nbconvert_exporter": "python",
   "pygments_lexer": "ipython3",
   "version": "3.10.8"
  },
  "orig_nbformat": 4
 },
 "nbformat": 4,
 "nbformat_minor": 2
}
