{
 "cells": [
  {
   "cell_type": "code",
   "execution_count": 5,
   "metadata": {},
   "outputs": [
    {
     "name": "stdout",
     "output_type": "stream",
     "text": [
      "El número 3 está en el conjunto.\n",
      "{1, 3, 4, 5, 6}\n"
     ]
    }
   ],
   "source": [
    "#Sets are a type of collection {} utiliza brackets o la funsion set() sin elementos duplicados\n",
    "\n",
    "mi_set = {1, 2, 3, 4, 5}\n",
    "\n",
    "mi_set.add(6) #agregar elemento\n",
    "\n",
    "mi_set.remove(2) # borrar datos\n",
    "\n",
    "if 3 in mi_set:\n",
    "    print(\"El número 3 está en el conjunto.\")  #verificar datos en el set\n",
    "\n",
    "print(mi_set)\n",
    " "
   ]
  },
  {
   "cell_type": "code",
   "execution_count": 6,
   "metadata": {},
   "outputs": [
    {
     "name": "stdout",
     "output_type": "stream",
     "text": [
      "{1, 2, 3, 4, 5}\n",
      "{3}\n",
      "{1, 2}\n"
     ]
    }
   ],
   "source": [
    "conjunto1 = {1, 2, 3}\n",
    "conjunto2 = {3, 4, 5}\n",
    "\n",
    "union = conjunto1 | conjunto2  #union\n",
    "interseccion = conjunto1 & conjunto2 #interseccion\n",
    "diferencia = conjunto1 - conjunto2 # diferencia\n",
    "\n",
    "print(union)         # Resultado: {1, 2, 3, 4, 5}\n",
    "print(interseccion)  # Resultado: {3}\n",
    "print(diferencia)    # Resultado: {1, 2}\n"
   ]
  },
  {
   "cell_type": "code",
   "execution_count": 7,
   "metadata": {},
   "outputs": [
    {
     "data": {
      "text/plain": [
       "{'A', 'B', 'C', 'Z'}"
      ]
     },
     "execution_count": 7,
     "metadata": {},
     "output_type": "execute_result"
    }
   ],
   "source": [
    "S={'A','B','C'}\n",
    "\n",
    "U={'A','Z','C'}\n",
    "\n",
    "U.union(S)"
   ]
  },
  {
   "cell_type": "code",
   "execution_count": 9,
   "metadata": {},
   "outputs": [
    {
     "name": "stdout",
     "output_type": "stream",
     "text": [
      "{'A', 'C'}\n"
     ]
    }
   ],
   "source": [
    "S={'A','B','C'}\n",
    "\n",
    "U={'A','Z','C'}\n",
    "\n",
    "A= S & U\n",
    "print(A)"
   ]
  }
 ],
 "metadata": {
  "kernelspec": {
   "display_name": "Python 3",
   "language": "python",
   "name": "python3"
  },
  "language_info": {
   "codemirror_mode": {
    "name": "ipython",
    "version": 3
   },
   "file_extension": ".py",
   "mimetype": "text/x-python",
   "name": "python",
   "nbconvert_exporter": "python",
   "pygments_lexer": "ipython3",
   "version": "3.10.8"
  },
  "orig_nbformat": 4
 },
 "nbformat": 4,
 "nbformat_minor": 2
}
