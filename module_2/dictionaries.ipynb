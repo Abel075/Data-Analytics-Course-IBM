{
 "cells": [
  {
   "cell_type": "code",
   "execution_count": 4,
   "metadata": {},
   "outputs": [],
   "source": [
    "# Dictionaries tambien conocidos como maps o hash maps \n",
    "# {} keys unique and inmutable\n",
    "# the values can be inmutable, mutable and duplicates\n",
    "#each key ane values pair is separated bby a comma\n",
    "\n",
    "\n",
    "\n",
    "\n"
   ]
  },
  {
   "cell_type": "code",
   "execution_count": 5,
   "metadata": {},
   "outputs": [
    {
     "ename": "NameError",
     "evalue": "name 'valor1' is not defined",
     "output_type": "error",
     "traceback": [
      "\u001b[0;31m---------------------------------------------------------------------------\u001b[0m",
      "\u001b[0;31mNameError\u001b[0m                                 Traceback (most recent call last)",
      "Cell \u001b[0;32mIn[5], line 1\u001b[0m\n\u001b[0;32m----> 1\u001b[0m mi_diccionario \u001b[39m=\u001b[39m {\u001b[39m\"\u001b[39m\u001b[39mclave1\u001b[39m\u001b[39m\"\u001b[39m: valor1, \u001b[39m\"\u001b[39m\u001b[39mclave2\u001b[39m\u001b[39m\"\u001b[39m: valor2, \u001b[39m\"\u001b[39m\u001b[39mclave3\u001b[39m\u001b[39m\"\u001b[39m: valor3}\n\u001b[1;32m      3\u001b[0m mi_diccionario[\u001b[39m\"\u001b[39m\u001b[39mclave4\u001b[39m\u001b[39m\"\u001b[39m] \u001b[39m=\u001b[39m valor4 \u001b[39m# agregar\u001b[39;00m\n\u001b[1;32m      5\u001b[0m mi_diccionario[\u001b[39m\"\u001b[39m\u001b[39mclave1\u001b[39m\u001b[39m\"\u001b[39m] \u001b[39m=\u001b[39m nuevo_valor \u001b[39m# modificar\u001b[39;00m\n",
      "\u001b[0;31mNameError\u001b[0m: name 'valor1' is not defined"
     ]
    }
   ],
   "source": [
    "#*mi_diccionario = {\"clave1\": valor1, \"clave2\": valor2, \"clave3\": valor3}\n",
    "\n",
    "#mi_diccionario[\"clave4\"] = valor4 # agregar\n",
    "\n",
    "#mi_diccionario[\"clave1\"] = nuevo_valor # modificar\n",
    "\n",
    "#del mi_diccionario[\"clave2\"] # eliminar #\n",
    "\n",
    "\n"
   ]
  },
  {
   "cell_type": "code",
   "execution_count": null,
   "metadata": {},
   "outputs": [],
   "source": [
    "#obtener todas las keys\n",
    "claves = mi_diccionario.keys()\n",
    "print(claves)"
   ]
  },
  {
   "cell_type": "code",
   "execution_count": null,
   "metadata": {},
   "outputs": [],
   "source": [
    "#Obtener todos los valores\n",
    "valores = mi_diccionario.values()\n",
    "print(valores)"
   ]
  },
  {
   "cell_type": "code",
   "execution_count": null,
   "metadata": {},
   "outputs": [
    {
     "ename": "NameError",
     "evalue": "name 'mi_diccionario' is not defined",
     "output_type": "error",
     "traceback": [
      "\u001b[0;31m---------------------------------------------------------------------------\u001b[0m",
      "\u001b[0;31mNameError\u001b[0m                                 Traceback (most recent call last)",
      "Cell \u001b[0;32mIn[1], line 2\u001b[0m\n\u001b[1;32m      1\u001b[0m \u001b[39m# in para averiguar un dato particular\u001b[39;00m\n\u001b[0;32m----> 2\u001b[0m \u001b[39m'\u001b[39m\u001b[39mvalor4\u001b[39m\u001b[39m'\u001b[39m \u001b[39min\u001b[39;00m mi_diccionario\n",
      "\u001b[0;31mNameError\u001b[0m: name 'mi_diccionario' is not defined"
     ]
    }
   ],
   "source": [
    "# in para averiguar un dato particular\n",
    "#valor4 in mi_diccionario"
   ]
  },
  {
   "cell_type": "code",
   "execution_count": 7,
   "metadata": {},
   "outputs": [
    {
     "data": {
      "text/plain": [
       "dict_values([0, 1, 2])"
      ]
     },
     "execution_count": 7,
     "metadata": {},
     "output_type": "execute_result"
    }
   ],
   "source": [
    "D = {'a':0,'b':1,'c':2}\n",
    "D.values()"
   ]
  },
  {
   "cell_type": "code",
   "execution_count": 8,
   "metadata": {},
   "outputs": [
    {
     "data": {
      "text/plain": [
       "1"
      ]
     },
     "execution_count": 8,
     "metadata": {},
     "output_type": "execute_result"
    }
   ],
   "source": [
    "D = {'a':0,'b':1,'c':2}\n",
    "D['b']"
   ]
  }
 ],
 "metadata": {
  "kernelspec": {
   "display_name": "Python 3",
   "language": "python",
   "name": "python3"
  },
  "language_info": {
   "codemirror_mode": {
    "name": "ipython",
    "version": 3
   },
   "file_extension": ".py",
   "mimetype": "text/x-python",
   "name": "python",
   "nbconvert_exporter": "python",
   "pygments_lexer": "ipython3",
   "version": "3.10.8"
  },
  "orig_nbformat": 4
 },
 "nbformat": 4,
 "nbformat_minor": 2
}
